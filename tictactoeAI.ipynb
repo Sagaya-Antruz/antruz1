{
 "cells": [
  {
   "cell_type": "code",
   "execution_count": 2,
   "id": "e8550d1e-9563-4a39-9ebb-58e610148dd9",
   "metadata": {},
   "outputs": [
    {
     "name": "stdout",
     "output_type": "stream",
     "text": [
      "Welcome to Tic-Tac-Toe!\n",
      "  |   |  \n",
      "---------\n",
      "  |   |  \n",
      "---------\n",
      "  |   |  \n",
      "---------\n"
     ]
    },
    {
     "name": "stdin",
     "output_type": "stream",
     "text": [
      "Enter your move (row[1-3] column[1-3]):  2 2\n"
     ]
    },
    {
     "name": "stdout",
     "output_type": "stream",
     "text": [
      "  |   |  \n",
      "---------\n",
      "  | X |  \n",
      "---------\n",
      "  |   |  \n",
      "---------\n",
      "AI is thinking...\n",
      "AI moves to (1, 1)\n",
      "O |   |  \n",
      "---------\n",
      "  | X |  \n",
      "---------\n",
      "  |   |  \n",
      "---------\n"
     ]
    },
    {
     "name": "stdin",
     "output_type": "stream",
     "text": [
      "Enter your move (row[1-3] column[1-3]):  3 3\n"
     ]
    },
    {
     "name": "stdout",
     "output_type": "stream",
     "text": [
      "O |   |  \n",
      "---------\n",
      "  | X |  \n",
      "---------\n",
      "  |   | X\n",
      "---------\n",
      "AI is thinking...\n",
      "AI moves to (1, 3)\n",
      "O |   | O\n",
      "---------\n",
      "  | X |  \n",
      "---------\n",
      "  |   | X\n",
      "---------\n"
     ]
    },
    {
     "name": "stdin",
     "output_type": "stream",
     "text": [
      "Enter your move (row[1-3] column[1-3]):  1 2\n"
     ]
    },
    {
     "name": "stdout",
     "output_type": "stream",
     "text": [
      "O | X | O\n",
      "---------\n",
      "  | X |  \n",
      "---------\n",
      "  |   | X\n",
      "---------\n",
      "AI is thinking...\n",
      "AI moves to (3, 2)\n",
      "O | X | O\n",
      "---------\n",
      "  | X |  \n",
      "---------\n",
      "  | O | X\n",
      "---------\n"
     ]
    },
    {
     "name": "stdin",
     "output_type": "stream",
     "text": [
      "Enter your move (row[1-3] column[1-3]):  2 1\n"
     ]
    },
    {
     "name": "stdout",
     "output_type": "stream",
     "text": [
      "O | X | O\n",
      "---------\n",
      "X | X |  \n",
      "---------\n",
      "  | O | X\n",
      "---------\n",
      "AI is thinking...\n",
      "AI moves to (2, 3)\n",
      "O | X | O\n",
      "---------\n",
      "X | X | O\n",
      "---------\n",
      "  | O | X\n",
      "---------\n"
     ]
    },
    {
     "name": "stdin",
     "output_type": "stream",
     "text": [
      "Enter your move (row[1-3] column[1-3]):  3 1\n"
     ]
    },
    {
     "name": "stdout",
     "output_type": "stream",
     "text": [
      "O | X | O\n",
      "---------\n",
      "X | X | O\n",
      "---------\n",
      "X | O | X\n",
      "---------\n",
      "It's a draw!\n"
     ]
    }
   ],
   "source": [
    "import random\n",
    "\n",
    "def print_board(board):\n",
    "    for row in board:\n",
    "        print(\" | \".join(row))\n",
    "        print(\"-\" * 9)\n",
    "\n",
    "def check_winner(board, player):\n",
    "    # Check rows\n",
    "    for row in board:\n",
    "        if all([cell == player for cell in row]):\n",
    "            return True\n",
    "\n",
    "    # Check columns\n",
    "    for col in range(3):\n",
    "        if all([board[row][col] == player for row in range(3)]):\n",
    "            return True\n",
    "\n",
    "    # Check diagonals\n",
    "    if all([board[i][i] == player for i in range(3)]) or \\\n",
    "       all([board[i][2-i] == player for i in range(3)]):\n",
    "        return True\n",
    "\n",
    "    return False\n",
    "\n",
    "def get_empty_cells(board):\n",
    "    return [(i, j) for i in range(3) for j in range(3) if board[i][j] == \" \"]\n",
    "\n",
    "def minimax(board, depth, maximizing_player):\n",
    "    if check_winner(board, \"X\"):\n",
    "        return -10 + depth\n",
    "    elif check_winner(board, \"O\"):\n",
    "        return 10 - depth\n",
    "    elif len(get_empty_cells(board)) == 0:\n",
    "        return 0\n",
    "\n",
    "    if maximizing_player:\n",
    "        max_eval = float('-inf')\n",
    "        for move in get_empty_cells(board):\n",
    "            board[move[0]][move[1]] = \"O\"\n",
    "            eval = minimax(board, depth + 1, False)\n",
    "            board[move[0]][move[1]] = \" \"\n",
    "            max_eval = max(max_eval, eval)\n",
    "        return max_eval\n",
    "    else:\n",
    "        min_eval = float('inf')\n",
    "        for move in get_empty_cells(board):\n",
    "            board[move[0]][move[1]] = \"X\"\n",
    "            eval = minimax(board, depth + 1, True)\n",
    "            board[move[0]][move[1]] = \" \"\n",
    "            min_eval = min(min_eval, eval)\n",
    "        return min_eval\n",
    "\n",
    "def get_best_move(board):\n",
    "    best_move = None\n",
    "    best_eval = float('-inf')\n",
    "    for move in get_empty_cells(board):\n",
    "        board[move[0]][move[1]] = \"O\"\n",
    "        eval = minimax(board, 0, False)\n",
    "        board[move[0]][move[1]] = \" \"\n",
    "        if eval > best_eval:\n",
    "            best_eval = eval\n",
    "            best_move = move\n",
    "    return best_move\n",
    "\n",
    "def main():\n",
    "    board = [[\" \" for _ in range(3)] for _ in range(3)]\n",
    "    print(\"Welcome to Tic-Tac-Toe!\")\n",
    "    print_board(board)\n",
    "\n",
    "    while True:\n",
    "        # Player's turn\n",
    "        row, col = map(int, input(\"Enter your move (row[1-3] column[1-3]): \").split())\n",
    "        row -= 1\n",
    "        col -= 1\n",
    "        if board[row][col] != \" \":\n",
    "            print(\"Invalid move, try again.\")\n",
    "            continue\n",
    "        board[row][col] = \"X\"\n",
    "        print_board(board)\n",
    "        if check_winner(board, \"X\"):\n",
    "            print(\"You win!\")\n",
    "            break\n",
    "        if len(get_empty_cells(board)) == 0:\n",
    "            print(\"It's a draw!\")\n",
    "            break\n",
    "\n",
    "        # AI's turn\n",
    "        print(\"AI is thinking...\")\n",
    "        ai_row, ai_col = get_best_move(board)\n",
    "        board[ai_row][ai_col] = \"O\"\n",
    "        print(f\"AI moves to ({ai_row+1}, {ai_col+1})\")\n",
    "        print_board(board)\n",
    "        if check_winner(board, \"O\"):\n",
    "            print(\"AI wins!\")\n",
    "            break\n",
    "        if len(get_empty_cells(board)) == 0:\n",
    "            print(\"It's a draw!\")\n",
    "            break\n",
    "\n",
    "if __name__ == \"__main__\":\n",
    "    main()\n"
   ]
  },
  {
   "cell_type": "code",
   "execution_count": null,
   "id": "a6c12d78-ab46-4dc3-a665-d0676d1f0058",
   "metadata": {},
   "outputs": [],
   "source": []
  }
 ],
 "metadata": {
  "kernelspec": {
   "display_name": "Python 3 (ipykernel)",
   "language": "python",
   "name": "python3"
  },
  "language_info": {
   "codemirror_mode": {
    "name": "ipython",
    "version": 3
   },
   "file_extension": ".py",
   "mimetype": "text/x-python",
   "name": "python",
   "nbconvert_exporter": "python",
   "pygments_lexer": "ipython3",
   "version": "3.11.7"
  }
 },
 "nbformat": 4,
 "nbformat_minor": 5
}
